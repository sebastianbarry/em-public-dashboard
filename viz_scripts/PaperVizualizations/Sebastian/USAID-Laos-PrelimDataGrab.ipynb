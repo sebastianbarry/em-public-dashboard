{
 "cells": [
  {
   "cell_type": "code",
   "execution_count": null,
   "id": "f9ac0fd5",
   "metadata": {},
   "outputs": [],
   "source": [
    "#laos data viz!"
   ]
  },
  {
   "cell_type": "code",
   "execution_count": 1,
   "id": "5860eea2",
   "metadata": {},
   "outputs": [],
   "source": [
    "#path configuration\n",
    "to_data_parent = \"../USAID-Laos-EV\" #path to the parent folder, should contain program subfolders\n",
    "to_data_folder = \"../USAID-Laos-EV\" #data folder, where composite data files will be written/read\n",
    "\n",
    "program = \"usaid_laos_ev\""
   ]
  },
  {
   "cell_type": "code",
   "execution_count": 2,
   "id": "b8a619c6",
   "metadata": {},
   "outputs": [],
   "source": [
    "import numpy as np\n",
    "import pandas as pd\n",
    "from collections import defaultdict"
   ]
  },
  {
   "cell_type": "code",
   "execution_count": 3,
   "id": "697af150",
   "metadata": {},
   "outputs": [],
   "source": [
    "import matplotlib.pyplot as plt\n",
    "import seaborn as sns\n",
    "from sklearn import linear_model\n",
    "\n",
    "sns.set_style(\"whitegrid\")\n",
    "sns.set()\n",
    "%matplotlib inline\n",
    "\n",
    "params = {'legend.fontsize': 'small',\n",
    "          'figure.figsize': (10, 8),\n",
    "         'axes.labelsize': 'small',\n",
    "         'axes.titlesize':'small',\n",
    "         'xtick.labelsize':'small',\n",
    "         'ytick.labelsize':'small'}\n",
    "plt.rcParams.update(params)\n",
    "\n",
    "\n",
    "import importlib"
   ]
  },
  {
   "cell_type": "code",
   "execution_count": 4,
   "id": "65a30b12",
   "metadata": {},
   "outputs": [
    {
     "name": "stdout",
     "output_type": "stream",
     "text": [
      "starting with  usaid_laos_ev\n",
      "../USAID-Laos-EV/usaid_laos_ev_trips.csv\n",
      "7565 trips\n",
      "24 people\n",
      "27 surveys\n",
      "27 surveys after dropping null ids\n",
      "24 surveys 24 users after dropping duplicates\n",
      "6706 trips after merging\n",
      "22 people after merging\n"
     ]
    }
   ],
   "source": [
    "print('starting with ', program)\n",
    "\n",
    "#create dataset with surveys and trips\n",
    "print(to_data_parent + '/' + program + '_trips.csv')\n",
    "trips = pd.read_csv(to_data_parent + '/' + program + '_trips.csv')\n",
    "print(len(trips), 'trips')\n",
    "print(trips.user_id.nunique(), 'people')\n",
    "\n",
    "surveys = pd.read_csv(to_data_parent + '/' + program + '_demographics.csv')\n",
    "print(len(surveys), 'surveys')\n",
    "\n",
    "#drop any null ids\n",
    "socio_data = surveys[~surveys['user_id'].isnull()]\n",
    "print(len(socio_data), 'surveys after dropping null ids')\n",
    "\n",
    "#drop duplicates\n",
    "socio_data = socio_data.sort_values(by=['user_id', 'data.ts'])\n",
    "socio_data.drop_duplicates(subset=['user_id'], keep='last', inplace=True)\n",
    "print(len(socio_data),'surveys', socio_data['user_id'].nunique(), 'users after dropping duplicates')\n",
    "\n",
    "#prepare survey ids for merging\n",
    "socio_data['user_id_socio'] = socio_data['user_id'].astype(str)\n",
    "socio_data['user_id_socio'] = socio_data['user_id_socio'].str.strip() #remove leading or trailing whitespace!!\n",
    "socio_data['user_id_socio'] = [i.replace('-','') for i in socio_data.user_id_socio]\n",
    "socio_data['user_id_socio'] = socio_data['user_id_socio']\n",
    "socio_data = socio_data.drop(labels='user_id', axis=1)\n",
    "\n",
    "\n",
    "#prepare trip ids for merging\n",
    "trips['user_id_socio'] = trips.user_id.astype(str)\n",
    "trips['user_id_socio'] = trips['user_id_socio'].str.strip() #remove leading or trailing whitespace!!\n",
    "trips.user_id_socio = [i.replace('-','') for i in trips.user_id_socio] # remove all dashes from strings\n",
    "\n",
    "#merge the data\n",
    "data = trips.merge(socio_data, on='user_id_socio')\n",
    "print(len(data), 'trips after merging')\n",
    "print(data.user_id_socio.nunique(), 'people after merging')\n",
    "\n",
    "data.rename(columns={'data.distance_km':'data.distance'}, inplace=True)\n",
    "\n",
    "data['program'] = program"
   ]
  },
  {
   "cell_type": "code",
   "execution_count": 5,
   "id": "27eed3e7",
   "metadata": {},
   "outputs": [
    {
     "name": "stdout",
     "output_type": "stream",
     "text": [
      "6706 trips\n",
      "22 users\n"
     ]
    }
   ],
   "source": [
    "#merge them all together\n",
    "full_data = data.copy()\n",
    "print(len(full_data), 'trips')\n",
    "print(full_data.user_id.nunique(), 'users')\n",
    "\n",
    "full_data.to_csv(to_data_folder + \"/expanded_ct.csv\")"
   ]
  },
  {
   "cell_type": "code",
   "execution_count": 6,
   "id": "1ef34a81",
   "metadata": {},
   "outputs": [
    {
     "data": {
      "text/plain": [
       "Index(['Unnamed: 0', 'data.start_fmt_time', 'data.end_fmt_time', 'user_id',\n",
       "       'data.duration', 'mode_confirm', 'purpose_confirm', 'data.distance',\n",
       "       'user_id_socio', '_id', 'data.ts', 'At_your_primary_job_do_you_ha',\n",
       "       'Which_best_describes_your_prim', 'Do_you_work_full_time_or_part_',\n",
       "       'Do_you_have_the_option_of_work', 'Please_describe_your_primary_job',\n",
       "       'Do_you_have_more_than_one_job', 'What_days_of_the_week_do_you_t',\n",
       "       'How_many_days_do_you_usually_w_001', 'Which_one_below_describe_you_b',\n",
       "       'What_is_your_race_ethnicity', 'Are_you_a_student',\n",
       "       'What_is_the_highest_grade_or_d', 'do_you_consider_yourself_to_be',\n",
       "       'What_is_your_gender', 'How_old_are_you', 'Are_you_a_paid_worker',\n",
       "       'Do_you_have_a_driver_license', 'How_long_you_had_this_conditio',\n",
       "       'Including_yourself_how_many_w_001', 'Including_yourself_how_many_p',\n",
       "       'Do_you_own_or_rent_your_home', 'Please_identify_which_category',\n",
       "       'How_many_motor_vehicles_are_ow_001',\n",
       "       'Including_yourself_how_many_p_001', 'If_you_were_unable_to_use_your',\n",
       "       'Including_yourself_how_many_w', 'What_is_your_home_type',\n",
       "       'How_many_motor_vehicles_are_ow', 'Do_you_have_a_condition_or_han',\n",
       "       'data.fmt_time', 'data.local_dt.year', 'data.local_dt.month',\n",
       "       'data.local_dt.day', 'data.local_dt.hour', 'data.local_dt.minute',\n",
       "       'data.local_dt.second', 'data.local_dt.weekday',\n",
       "       'data.local_dt.timezone', 'deprecatedID', 'program'],\n",
       "      dtype='object')"
      ]
     },
     "execution_count": 6,
     "metadata": {},
     "output_type": "execute_result"
    }
   ],
   "source": [
    "# loading the data\n",
    "data = pd.read_csv(to_data_folder + \"/expanded_ct.csv\")\n",
    "data.columns"
   ]
  },
  {
   "cell_type": "code",
   "execution_count": 7,
   "id": "06478811",
   "metadata": {},
   "outputs": [
    {
     "name": "stdout",
     "output_type": "stream",
     "text": [
      "nan\n",
      "drove_alone\n",
      "e_car_drove_alone\n",
      "shared_ride\n",
      "motorcycle\n",
      "e-auto_rickshaw\n",
      "e-bike\n",
      "walk\n",
      "taxi\n",
      "e_car_shared_ride\n",
      "bike\n",
      "auto_rickshaw\n",
      "air\n",
      "not_a_trip\n"
     ]
    }
   ],
   "source": [
    "unique_values = trips['mode_confirm'].unique()\n",
    "\n",
    "# Print out the unique values\n",
    "for value in unique_values:\n",
    "    print(value)\n"
   ]
  },
  {
   "cell_type": "code",
   "execution_count": 8,
   "id": "b2c08ea5",
   "metadata": {},
   "outputs": [
    {
     "name": "stdout",
     "output_type": "stream",
     "text": [
      "22\n"
     ]
    },
    {
     "ename": "KeyError",
     "evalue": "\"['data.distance_km'] not in index\"",
     "output_type": "error",
     "traceback": [
      "\u001b[0;31m---------------------------------------------------------------------------\u001b[0m",
      "\u001b[0;31mKeyError\u001b[0m                                  Traceback (most recent call last)",
      "Cell \u001b[0;32mIn[8], line 3\u001b[0m\n\u001b[1;32m      1\u001b[0m \u001b[38;5;66;03m# Summary statistics table\u001b[39;00m\n\u001b[1;32m      2\u001b[0m \u001b[38;5;28mprint\u001b[39m(\u001b[38;5;28mlen\u001b[39m(pd\u001b[38;5;241m.\u001b[39munique(data\u001b[38;5;241m.\u001b[39muser_id)))\n\u001b[0;32m----> 3\u001b[0m stat_data \u001b[38;5;241m=\u001b[39m \u001b[43mdata\u001b[49m\u001b[43m[\u001b[49m\u001b[43m[\u001b[49m\u001b[38;5;124;43m'\u001b[39;49m\u001b[38;5;124;43mdata.distance_km\u001b[39;49m\u001b[38;5;124;43m'\u001b[39;49m\u001b[43m,\u001b[49m\u001b[38;5;124;43m'\u001b[39;49m\u001b[38;5;124;43mdata.duration\u001b[39;49m\u001b[38;5;124;43m'\u001b[39;49m\u001b[43m]\u001b[49m\u001b[43m]\u001b[49m\n\u001b[1;32m      4\u001b[0m stat_data\u001b[38;5;241m.\u001b[39mdescribe()\n",
      "File \u001b[0;32m~/miniconda-23.5.2/envs/emission/lib/python3.9/site-packages/pandas/core/frame.py:3813\u001b[0m, in \u001b[0;36mDataFrame.__getitem__\u001b[0;34m(self, key)\u001b[0m\n\u001b[1;32m   3811\u001b[0m     \u001b[38;5;28;01mif\u001b[39;00m is_iterator(key):\n\u001b[1;32m   3812\u001b[0m         key \u001b[38;5;241m=\u001b[39m \u001b[38;5;28mlist\u001b[39m(key)\n\u001b[0;32m-> 3813\u001b[0m     indexer \u001b[38;5;241m=\u001b[39m \u001b[38;5;28;43mself\u001b[39;49m\u001b[38;5;241;43m.\u001b[39;49m\u001b[43mcolumns\u001b[49m\u001b[38;5;241;43m.\u001b[39;49m\u001b[43m_get_indexer_strict\u001b[49m\u001b[43m(\u001b[49m\u001b[43mkey\u001b[49m\u001b[43m,\u001b[49m\u001b[43m \u001b[49m\u001b[38;5;124;43m\"\u001b[39;49m\u001b[38;5;124;43mcolumns\u001b[39;49m\u001b[38;5;124;43m\"\u001b[39;49m\u001b[43m)\u001b[49m[\u001b[38;5;241m1\u001b[39m]\n\u001b[1;32m   3815\u001b[0m \u001b[38;5;66;03m# take() does not accept boolean indexers\u001b[39;00m\n\u001b[1;32m   3816\u001b[0m \u001b[38;5;28;01mif\u001b[39;00m \u001b[38;5;28mgetattr\u001b[39m(indexer, \u001b[38;5;124m\"\u001b[39m\u001b[38;5;124mdtype\u001b[39m\u001b[38;5;124m\"\u001b[39m, \u001b[38;5;28;01mNone\u001b[39;00m) \u001b[38;5;241m==\u001b[39m \u001b[38;5;28mbool\u001b[39m:\n",
      "File \u001b[0;32m~/miniconda-23.5.2/envs/emission/lib/python3.9/site-packages/pandas/core/indexes/base.py:6070\u001b[0m, in \u001b[0;36mIndex._get_indexer_strict\u001b[0;34m(self, key, axis_name)\u001b[0m\n\u001b[1;32m   6067\u001b[0m \u001b[38;5;28;01melse\u001b[39;00m:\n\u001b[1;32m   6068\u001b[0m     keyarr, indexer, new_indexer \u001b[38;5;241m=\u001b[39m \u001b[38;5;28mself\u001b[39m\u001b[38;5;241m.\u001b[39m_reindex_non_unique(keyarr)\n\u001b[0;32m-> 6070\u001b[0m \u001b[38;5;28;43mself\u001b[39;49m\u001b[38;5;241;43m.\u001b[39;49m\u001b[43m_raise_if_missing\u001b[49m\u001b[43m(\u001b[49m\u001b[43mkeyarr\u001b[49m\u001b[43m,\u001b[49m\u001b[43m \u001b[49m\u001b[43mindexer\u001b[49m\u001b[43m,\u001b[49m\u001b[43m \u001b[49m\u001b[43maxis_name\u001b[49m\u001b[43m)\u001b[49m\n\u001b[1;32m   6072\u001b[0m keyarr \u001b[38;5;241m=\u001b[39m \u001b[38;5;28mself\u001b[39m\u001b[38;5;241m.\u001b[39mtake(indexer)\n\u001b[1;32m   6073\u001b[0m \u001b[38;5;28;01mif\u001b[39;00m \u001b[38;5;28misinstance\u001b[39m(key, Index):\n\u001b[1;32m   6074\u001b[0m     \u001b[38;5;66;03m# GH 42790 - Preserve name from an Index\u001b[39;00m\n",
      "File \u001b[0;32m~/miniconda-23.5.2/envs/emission/lib/python3.9/site-packages/pandas/core/indexes/base.py:6133\u001b[0m, in \u001b[0;36mIndex._raise_if_missing\u001b[0;34m(self, key, indexer, axis_name)\u001b[0m\n\u001b[1;32m   6130\u001b[0m     \u001b[38;5;28;01mraise\u001b[39;00m \u001b[38;5;167;01mKeyError\u001b[39;00m(\u001b[38;5;124mf\u001b[39m\u001b[38;5;124m\"\u001b[39m\u001b[38;5;124mNone of [\u001b[39m\u001b[38;5;132;01m{\u001b[39;00mkey\u001b[38;5;132;01m}\u001b[39;00m\u001b[38;5;124m] are in the [\u001b[39m\u001b[38;5;132;01m{\u001b[39;00maxis_name\u001b[38;5;132;01m}\u001b[39;00m\u001b[38;5;124m]\u001b[39m\u001b[38;5;124m\"\u001b[39m)\n\u001b[1;32m   6132\u001b[0m not_found \u001b[38;5;241m=\u001b[39m \u001b[38;5;28mlist\u001b[39m(ensure_index(key)[missing_mask\u001b[38;5;241m.\u001b[39mnonzero()[\u001b[38;5;241m0\u001b[39m]]\u001b[38;5;241m.\u001b[39munique())\n\u001b[0;32m-> 6133\u001b[0m \u001b[38;5;28;01mraise\u001b[39;00m \u001b[38;5;167;01mKeyError\u001b[39;00m(\u001b[38;5;124mf\u001b[39m\u001b[38;5;124m\"\u001b[39m\u001b[38;5;132;01m{\u001b[39;00mnot_found\u001b[38;5;132;01m}\u001b[39;00m\u001b[38;5;124m not in index\u001b[39m\u001b[38;5;124m\"\u001b[39m)\n",
      "\u001b[0;31mKeyError\u001b[0m: \"['data.distance_km'] not in index\""
     ]
    }
   ],
   "source": [
    "# Summary statistics table\n",
    "print(len(pd.unique(data.user_id)))\n",
    "stat_data = data[['data.distance_km','data.duration']]\n",
    "stat_data.describe()"
   ]
  },
  {
   "cell_type": "code",
   "execution_count": null,
   "id": "5a59db1b",
   "metadata": {
    "scrolled": false
   },
   "outputs": [],
   "source": [
    "# Group by user_id and count the number of trips\n",
    "user_trip_counts = full_data.groupby('user_id').size()\n",
    "\n",
    "# Create a new DataFrame with user_id as index and trip counts as columns\n",
    "table_data = pd.DataFrame(user_trip_counts, columns=['Total Number of Trips'])\n",
    "\n",
    "# Calculate total number of users and total number of trips\n",
    "total_users = len(table_data)\n",
    "total_trips = table_data['Total Number of Trips'].sum()\n",
    "\n",
    "# Rename user_ids to unique names\n",
    "user_id_map = {user_id: f'User {i+1}' for i, user_id in enumerate(table_data.index)}\n",
    "table_data.rename(index=user_id_map, inplace=True)\n",
    "\n",
    "sorted_table_data = table_data.sort_values(by='Total Number of Trips')\n",
    "\n",
    "\n",
    "# Plot the bar plot\n",
    "plt.figure(figsize=(10, 6))\n",
    "plt.bar(sorted_table_data.index, sorted_table_data['Total Number of Trips'], color='skyblue')\n",
    "plt.xlabel('Users')\n",
    "plt.ylabel('Total Number of Trips')\n",
    "plt.title('User Trip Counts')\n",
    "plt.xticks(rotation=45, ha='right')\n",
    "plt.tight_layout()\n",
    "plt.show()\n",
    "\n",
    "# Add a row for total users and total trips\n",
    "table_data.loc['Total'] = [total_trips]\n",
    "\n",
    "# Plot the table\n",
    "plt.figure(figsize=(2, 6))\n",
    "plt.table(cellText=table_data.values,\n",
    "          colLabels=table_data.columns,\n",
    "          rowLabels=table_data.index,\n",
    "          loc='center')\n",
    "plt.axis('off')\n",
    "plt.title('User Trip Counts')\n",
    "plt.show()\n"
   ]
  },
  {
   "cell_type": "code",
   "execution_count": null,
   "id": "9b8dc332",
   "metadata": {},
   "outputs": [],
   "source": [
    "# Function to categorize slices into \"other\" if percentage is less than limit%\n",
    "def categorize_into_other(grouped_data, limit):\n",
    "    total_count = grouped_data['count'].sum()\n",
    "    grouped_data['percentage'] = (grouped_data['count'] / total_count) * 100\n",
    "    other_slice = grouped_data[grouped_data['percentage'] < limit]\n",
    "    other_count = other_slice['count'].sum()\n",
    "    grouped_data = grouped_data[grouped_data['percentage'] >= limit]\n",
    "    if other_count > 0:\n",
    "        grouped_data = grouped_data.append({'purpose_confirm': 'Other', 'count': other_count}, ignore_index=True)\n",
    "    return grouped_data"
   ]
  },
  {
   "cell_type": "code",
   "execution_count": 9,
   "id": "835ba140",
   "metadata": {
    "scrolled": true
   },
   "outputs": [
    {
     "ename": "NameError",
     "evalue": "name 'categorize_into_other' is not defined",
     "output_type": "error",
     "traceback": [
      "\u001b[0;31m---------------------------------------------------------------------------\u001b[0m",
      "\u001b[0;31mNameError\u001b[0m                                 Traceback (most recent call last)",
      "Cell \u001b[0;32mIn[9], line 8\u001b[0m\n\u001b[1;32m      5\u001b[0m purposes_plot_data \u001b[38;5;241m=\u001b[39m purposes_data\u001b[38;5;241m.\u001b[39mgroupby(\u001b[38;5;124m'\u001b[39m\u001b[38;5;124mpurpose_confirm\u001b[39m\u001b[38;5;124m'\u001b[39m)\u001b[38;5;241m.\u001b[39msize()\u001b[38;5;241m.\u001b[39mreset_index(name\u001b[38;5;241m=\u001b[39m\u001b[38;5;124m'\u001b[39m\u001b[38;5;124mcount\u001b[39m\u001b[38;5;124m'\u001b[39m)\n\u001b[1;32m      7\u001b[0m \u001b[38;5;66;03m# Remove purposes that represent < 2% of the overall, to not dilute the room on the chart\u001b[39;00m\n\u001b[0;32m----> 8\u001b[0m purposes_plot_data \u001b[38;5;241m=\u001b[39m \u001b[43mcategorize_into_other\u001b[49m(purposes_plot_data, \u001b[38;5;241m2\u001b[39m)\n\u001b[1;32m     10\u001b[0m purposes_plot_data[\u001b[38;5;124m'\u001b[39m\u001b[38;5;124mpurpose_confirm\u001b[39m\u001b[38;5;124m'\u001b[39m] \u001b[38;5;241m=\u001b[39m purposes_plot_data[\u001b[38;5;124m'\u001b[39m\u001b[38;5;124mpurpose_confirm\u001b[39m\u001b[38;5;124m'\u001b[39m]\u001b[38;5;241m.\u001b[39mreplace({\u001b[38;5;124m'\u001b[39m\u001b[38;5;124mwork\u001b[39m\u001b[38;5;124m'\u001b[39m: \u001b[38;5;124m'\u001b[39m\u001b[38;5;124mWork\u001b[39m\u001b[38;5;124m'\u001b[39m})\n\u001b[1;32m     11\u001b[0m purposes_plot_data[\u001b[38;5;124m'\u001b[39m\u001b[38;5;124mpurpose_confirm\u001b[39m\u001b[38;5;124m'\u001b[39m] \u001b[38;5;241m=\u001b[39m purposes_plot_data[\u001b[38;5;124m'\u001b[39m\u001b[38;5;124mpurpose_confirm\u001b[39m\u001b[38;5;124m'\u001b[39m]\u001b[38;5;241m.\u001b[39mreplace({\u001b[38;5;124m'\u001b[39m\u001b[38;5;124mat_work\u001b[39m\u001b[38;5;124m'\u001b[39m: \u001b[38;5;124m'\u001b[39m\u001b[38;5;124mAt Work\u001b[39m\u001b[38;5;124m'\u001b[39m})\n",
      "\u001b[0;31mNameError\u001b[0m: name 'categorize_into_other' is not defined"
     ]
    }
   ],
   "source": [
    "# Filter the dataframe to include only rows where \"purpose_confirm\" is not null\n",
    "purposes_data = full_data[full_data['purpose_confirm'].notnull()]\n",
    "\n",
    "# Count the number of rows in the filtered dataframe\n",
    "purposes_plot_data = purposes_data.groupby('purpose_confirm').size().reset_index(name='count')\n",
    "\n",
    "# Remove purposes that represent < 2% of the overall, to not dilute the room on the chart\n",
    "purposes_plot_data = categorize_into_other(purposes_plot_data, 2)\n",
    "\n",
    "purposes_plot_data['purpose_confirm'] = purposes_plot_data['purpose_confirm'].replace({'work': 'Work'})\n",
    "purposes_plot_data['purpose_confirm'] = purposes_plot_data['purpose_confirm'].replace({'at_work': 'At Work'})\n",
    "purposes_plot_data['purpose_confirm'] = purposes_plot_data['purpose_confirm'].replace({'meal': 'Meal'})\n",
    "purposes_plot_data['purpose_confirm'] = purposes_plot_data['purpose_confirm'].replace({'pick_drop_person': 'Pick up/ Drop off Person'})\n",
    "purposes_plot_data['purpose_confirm'] = purposes_plot_data['purpose_confirm'].replace({'school': 'School'})\n",
    "\n",
    "# Create a pie chart\n",
    "plt.figure(figsize=(8, 8))  # Adjust the figure size as needed\n",
    "plt.pie(purposes_plot_data['count'], labels=purposes_plot_data['purpose_confirm'], autopct=lambda p: '{:.1f}%\\n({:.0f})'.format(p, p * sum(purposes_plot_data['count']) / 100), startangle=140)\n",
    "\n",
    "# Set the title\n",
    "plt.title('Distribution of Labeled Trip Purposes')\n",
    "\n",
    "# Show the plot\n",
    "plt.axis('equal')  # Equal aspect ratio ensures that pie is drawn as a circle\n",
    "plt.show()"
   ]
  },
  {
   "cell_type": "code",
   "execution_count": 10,
   "id": "b8e37314",
   "metadata": {},
   "outputs": [
    {
     "ename": "NameError",
     "evalue": "name 'categorize_into_other' is not defined",
     "output_type": "error",
     "traceback": [
      "\u001b[0;31m---------------------------------------------------------------------------\u001b[0m",
      "\u001b[0;31mNameError\u001b[0m                                 Traceback (most recent call last)",
      "Cell \u001b[0;32mIn[10], line 8\u001b[0m\n\u001b[1;32m      5\u001b[0m purposes_man_data \u001b[38;5;241m=\u001b[39m man_data\u001b[38;5;241m.\u001b[39mgroupby(\u001b[38;5;124m'\u001b[39m\u001b[38;5;124mpurpose_confirm\u001b[39m\u001b[38;5;124m'\u001b[39m)\u001b[38;5;241m.\u001b[39msize()\u001b[38;5;241m.\u001b[39mreset_index(name\u001b[38;5;241m=\u001b[39m\u001b[38;5;124m'\u001b[39m\u001b[38;5;124mcount\u001b[39m\u001b[38;5;124m'\u001b[39m)\n\u001b[1;32m      7\u001b[0m \u001b[38;5;66;03m# Filter out slices with less than 4% of the total count\u001b[39;00m\n\u001b[0;32m----> 8\u001b[0m purposes_man_data \u001b[38;5;241m=\u001b[39m \u001b[43mcategorize_into_other\u001b[49m(purposes_man_data, \u001b[38;5;241m4\u001b[39m)\n\u001b[1;32m     10\u001b[0m purposes_man_data[\u001b[38;5;124m'\u001b[39m\u001b[38;5;124mpurpose_confirm\u001b[39m\u001b[38;5;124m'\u001b[39m] \u001b[38;5;241m=\u001b[39m purposes_man_data[\u001b[38;5;124m'\u001b[39m\u001b[38;5;124mpurpose_confirm\u001b[39m\u001b[38;5;124m'\u001b[39m]\u001b[38;5;241m.\u001b[39mreplace({\u001b[38;5;124m'\u001b[39m\u001b[38;5;124mwork\u001b[39m\u001b[38;5;124m'\u001b[39m: \u001b[38;5;124m'\u001b[39m\u001b[38;5;124mWork\u001b[39m\u001b[38;5;124m'\u001b[39m})\n\u001b[1;32m     11\u001b[0m purposes_man_data[\u001b[38;5;124m'\u001b[39m\u001b[38;5;124mpurpose_confirm\u001b[39m\u001b[38;5;124m'\u001b[39m] \u001b[38;5;241m=\u001b[39m purposes_man_data[\u001b[38;5;124m'\u001b[39m\u001b[38;5;124mpurpose_confirm\u001b[39m\u001b[38;5;124m'\u001b[39m]\u001b[38;5;241m.\u001b[39mreplace({\u001b[38;5;124m'\u001b[39m\u001b[38;5;124mat_work\u001b[39m\u001b[38;5;124m'\u001b[39m: \u001b[38;5;124m'\u001b[39m\u001b[38;5;124mAt Work\u001b[39m\u001b[38;5;124m'\u001b[39m})\n",
      "\u001b[0;31mNameError\u001b[0m: name 'categorize_into_other' is not defined"
     ]
    }
   ],
   "source": [
    "# Filter the dataframe for gender \"man\"\n",
    "man_data = full_data[full_data['What_is_your_gender'] == 'man']\n",
    "\n",
    "# Group the dataframe by \"purpose_confirm\" for \"man\" and count the number of rows for each group\n",
    "purposes_man_data = man_data.groupby('purpose_confirm').size().reset_index(name='count')\n",
    "\n",
    "# Filter out slices with less than 4% of the total count\n",
    "purposes_man_data = categorize_into_other(purposes_man_data, 4)\n",
    "\n",
    "purposes_man_data['purpose_confirm'] = purposes_man_data['purpose_confirm'].replace({'work': 'Work'})\n",
    "purposes_man_data['purpose_confirm'] = purposes_man_data['purpose_confirm'].replace({'at_work': 'At Work'})\n",
    "purposes_man_data['purpose_confirm'] = purposes_man_data['purpose_confirm'].replace({'meal': 'Meal'})\n",
    "purposes_man_data['purpose_confirm'] = purposes_man_data['purpose_confirm'].replace({'pick_drop_person': 'Pick up/ Drop off Person'})\n",
    "purposes_man_data['purpose_confirm'] = purposes_man_data['purpose_confirm'].replace({'school': 'School'})\n",
    "purposes_man_data['purpose_confirm'] = purposes_man_data['purpose_confirm'].replace({'home': 'Home'})\n",
    "purposes_man_data['purpose_confirm'] = purposes_man_data['purpose_confirm'].replace({'shopping': 'Shopping'})\n",
    "\n",
    "colors_man = ['steelblue', 'coral', 'mediumpurple', 'darkgoldenrod', 'plum', 'cyan', 'magenta', 'yellow']\n",
    "\n",
    "# Create a pie chart for \"man\"\n",
    "plt.figure(figsize=(8, 8))  # Adjust the figure size as needed\n",
    "plt.pie(purposes_man_data['count'], labels=purposes_man_data['purpose_confirm'], autopct=lambda p: '{:.1f}%\\n({:.0f})'.format(p, p * sum(purposes_man_data['count']) / 100), startangle=140, colors=colors_man)\n",
    "plt.title('[Men] Distribution of Labeled Trip Purposes')\n",
    "plt.axis('equal')  # Equal aspect ratio ensures that pie is drawn as a circle\n",
    "plt.show()"
   ]
  },
  {
   "cell_type": "code",
   "execution_count": 33,
   "id": "6be2d62e",
   "metadata": {},
   "outputs": [
    {
     "name": "stdout",
     "output_type": "stream",
     "text": [
      "1272 trips\n",
      "16 people\n"
     ]
    },
    {
     "data": {
      "image/png": "[encoded data removed]",
      "text/plain": [
       "<Figure size 1000x800 with 1 Axes>"
      ]
     },
     "metadata": {},
     "output_type": "display_data"
    }
   ],
   "source": [
    "print(full_data['purpose_confirm'].dropna().size, \"trips\")\n",
    "# Grouping the data by user and purpose_confirm and calculating the count for each group\n",
    "grouped_data = full_data.groupby(['user_id', 'purpose_confirm']).size().reset_index(name='count')\n",
    "\n",
    "grouped_data = grouped_data.sort_values(by=['purpose_confirm'])\n",
    "\n",
    "# Grouping the DataFrame by 'user_id'\n",
    "grouped_df = grouped_data.groupby('user_id')\n",
    "\n",
    "# Calculate the total count of trips for each user\n",
    "total_trips = grouped_df['count'].transform('sum')\n",
    "\n",
    "# Calculate the percentage of each purpose_confirm for each user\n",
    "grouped_data['percentage'] = (grouped_data['count'] / total_trips) * 100\n",
    "grouped_data.head(50)\n",
    "\n",
    "#grouped_data = grouped_data[grouped_data['purpose_confirm']=='work' | grouped_data['purpose_confirm']=='at_work' | grouped_data['purpose_confirm']=='pick_drop_person']\n",
    "grouped_data = grouped_data.query('purpose_confirm==\"work\" | purpose_confirm==\"school\" | purpose_confirm==\"at_work\" | purpose_confirm==\"pick_drop_person\" | purpose_confirm==\"home\"')\n",
    "\n",
    "# Plotting the box and whisker plot\n",
    "fig, ax = plt.subplots(figsize=(10,8))\n",
    "plot_title = 'Percentage of Purpose Choice for Each User'\n",
    "ylab = 'Percentage of trips'\n",
    "sns.boxplot(ax=ax, data=grouped_data, x='purpose_confirm', y='percentage', hue='purpose_confirm', showfliers=False).set(title=plot_title, xlabel='', ylabel=ylab)\n",
    "\n",
    "plt.subplots_adjust(bottom=0.25)\n",
    "plt.xticks(rotation=35, ha='right')\n",
    "plt.legend([])\n",
    "\n",
    "print(grouped_data['user_id'].nunique(), \"people\")"
   ]
  },
  {
   "cell_type": "code",
   "execution_count": 49,
   "id": "a39570f1",
   "metadata": {},
   "outputs": [
    {
     "name": "stdout",
     "output_type": "stream",
     "text": [
      "1270 trips\n",
      "14 people\n"
     ]
    },
    {
     "data": {
      "image/png": "[encoded data removed]",
      "text/plain": [
       "<Figure size 1000x800 with 1 Axes>"
      ]
     },
     "metadata": {},
     "output_type": "display_data"
    }
   ],
   "source": [
    "print(full_data['mode_confirm'].dropna().size, \"trips\")\n",
    "# Grouping the data by user and purpose_confirm and calculating the count for each group\n",
    "grouped_data = full_data.groupby(['user_id', 'mode_confirm']).size().reset_index(name='count')\n",
    "\n",
    "grouped_data = grouped_data.sort_values(by=['mode_confirm'])\n",
    "\n",
    "# Grouping the DataFrame by 'user_id'\n",
    "grouped_df = grouped_data.groupby('user_id')\n",
    "\n",
    "# Calculate the total count of trips for each user\n",
    "total_trips = grouped_df['count'].transform('sum')\n",
    "\n",
    "# Calculate the percentage of each purpose_confirm for each user\n",
    "grouped_data['percentage'] = (grouped_data['count'] / total_trips) * 100\n",
    "grouped_data.head(50)\n",
    "\n",
    "#grouped_data = grouped_data[grouped_data['purpose_confirm']=='work' | grouped_data['purpose_confirm']=='at_work' | grouped_data['purpose_confirm']=='pick_drop_person']\n",
    "grouped_data = grouped_data.query('mode_confirm==\"walk\" | mode_confirm==\"drove_alone\" | mode_confirm==\"motorcycle\"')\n",
    "\n",
    "# Plotting the box and whisker plot\n",
    "fig, ax = plt.subplots(figsize=(10,8))\n",
    "plot_title = 'Percentage of Mode Choice for Each User'\n",
    "ylab = 'Percentage of trips'\n",
    "sns.boxplot(ax=ax, data=grouped_data, x='mode_confirm', y='percentage', hue='mode_confirm', showfliers=False).set(title=plot_title, xlabel='', ylabel=ylab)\n",
    "\n",
    "plt.subplots_adjust(bottom=0.25)\n",
    "plt.xticks(rotation=35, ha='right')\n",
    "plt.legend([])\n",
    "\n",
    "print(grouped_data['user_id'].nunique(), \"people\")"
   ]
  },
  {
   "cell_type": "code",
   "execution_count": 50,
   "id": "259ac35e",
   "metadata": {},
   "outputs": [
    {
     "name": "stdout",
     "output_type": "stream",
     "text": [
      "455 trips\n",
      "8 men\n"
     ]
    },
    {
     "data": {
      "image/png": "[encoded data removed]",
      "text/plain": [
       "<Figure size 1000x800 with 1 Axes>"
      ]
     },
     "metadata": {},
     "output_type": "display_data"
    }
   ],
   "source": [
    "men_full_data = full_data[full_data['What_is_your_gender'] == 'man']\n",
    "\n",
    "print(men_full_data['purpose_confirm'].dropna().size, \"trips\")\n",
    "# Grouping the data by user and purpose_confirm and calculating the count for each group\n",
    "grouped_data = men_full_data.groupby(['user_id', 'purpose_confirm']).size().reset_index(name='count')\n",
    "\n",
    "grouped_data = grouped_data.sort_values(by=['purpose_confirm'])\n",
    "\n",
    "# Grouping the DataFrame by 'user_id'\n",
    "grouped_df = grouped_data.groupby('user_id')\n",
    "\n",
    "# Calculate the total count of trips for each user\n",
    "total_trips = grouped_df['count'].transform('sum')\n",
    "\n",
    "# Calculate the percentage of each purpose_confirm for each user\n",
    "grouped_data['percentage'] = (grouped_data['count'] / total_trips) * 100\n",
    "grouped_data.head(50)\n",
    "\n",
    "#grouped_data = grouped_data[grouped_data['purpose_confirm']=='work' | grouped_data['purpose_confirm']=='at_work' | grouped_data['purpose_confirm']=='pick_drop_person']\n",
    "grouped_data = grouped_data.query('purpose_confirm==\"work\" | purpose_confirm==\"school\" | purpose_confirm==\"at_work\" | purpose_confirm==\"pick_drop_person\" | purpose_confirm==\"home\"')\n",
    "\n",
    "# Plotting the box and whisker plot\n",
    "fig, ax = plt.subplots(figsize=(10,8))\n",
    "plot_title = '[Man] Percentage of Purpose Choice for Each User'\n",
    "ylab = 'Percentage of trips'\n",
    "sns.boxplot(ax=ax, data=grouped_data, x='purpose_confirm', y='percentage', hue='purpose_confirm', showfliers=False).set(title=plot_title, xlabel='', ylabel=ylab)\n",
    "\n",
    "plt.subplots_adjust(bottom=0.25)\n",
    "plt.xticks(rotation=35, ha='right')\n",
    "plt.legend([])\n",
    "print(grouped_data['user_id'].nunique(), \"men\")"
   ]
  },
  {
   "cell_type": "code",
   "execution_count": 51,
   "id": "717dc9f9",
   "metadata": {},
   "outputs": [
    {
     "name": "stdout",
     "output_type": "stream",
     "text": [
      "456 trips\n",
      "8 men\n"
     ]
    },
    {
     "data": {
      "image/png": "[encoded data removed]",
      "text/plain": [
       "<Figure size 1000x800 with 1 Axes>"
      ]
     },
     "metadata": {},
     "output_type": "display_data"
    }
   ],
   "source": [
    "men_full_data = full_data[full_data['What_is_your_gender'] == 'man']\n",
    "\n",
    "print(men_full_data['mode_confirm'].dropna().size, \"trips\")\n",
    "# Grouping the data by user and purpose_confirm and calculating the count for each group\n",
    "grouped_data = men_full_data.groupby(['user_id', 'mode_confirm']).size().reset_index(name='count')\n",
    "\n",
    "grouped_data = grouped_data.sort_values(by=['mode_confirm'])\n",
    "\n",
    "# Grouping the DataFrame by 'user_id'\n",
    "grouped_df = grouped_data.groupby('user_id')\n",
    "\n",
    "# Calculate the total count of trips for each user\n",
    "total_trips = grouped_df['count'].transform('sum')\n",
    "\n",
    "# Calculate the percentage of each purpose_confirm for each user\n",
    "grouped_data['percentage'] = (grouped_data['count'] / total_trips) * 100\n",
    "grouped_data.head(50)\n",
    "\n",
    "#grouped_data = grouped_data[grouped_data['purpose_confirm']=='work' | grouped_data['purpose_confirm']=='at_work' | grouped_data['purpose_confirm']=='pick_drop_person']\n",
    "grouped_data = grouped_data.query('mode_confirm==\"motorcycle\" | mode_confirm==\"walk\" | mode_confirm==\"drove_alone\"')\n",
    "\n",
    "# Plotting the box and whisker plot\n",
    "fig, ax = plt.subplots(figsize=(10,8))\n",
    "plot_title = '[Man] Percentage of Mode Choice for Each User'\n",
    "ylab = 'Percentage of trips'\n",
    "sns.boxplot(ax=ax, data=grouped_data, x='mode_confirm', y='percentage', hue='mode_confirm', showfliers=False).set(title=plot_title, xlabel='', ylabel=ylab)\n",
    "\n",
    "plt.subplots_adjust(bottom=0.25)\n",
    "plt.xticks(rotation=35, ha='right')\n",
    "plt.legend([])\n",
    "print(grouped_data['user_id'].nunique(), \"men\")"
   ]
  },
  {
   "cell_type": "code",
   "execution_count": 37,
   "id": "63769014",
   "metadata": {},
   "outputs": [
    {
     "name": "stdout",
     "output_type": "stream",
     "text": [
      "817 trips\n",
      "8 women\n"
     ]
    },
    {
     "data": {
      "image/png": "[encoded data removed]",
      "text/plain": [
       "<Figure size 1000x800 with 1 Axes>"
      ]
     },
     "metadata": {},
     "output_type": "display_data"
    }
   ],
   "source": [
    "women_full_data = full_data[full_data['What_is_your_gender'] == 'woman']\n",
    "\n",
    "print(women_full_data['purpose_confirm'].dropna().size, \"trips\")\n",
    "# Grouping the data by user and purpose_confirm and calculating the count for each group\n",
    "grouped_data = women_full_data.groupby(['user_id', 'purpose_confirm']).size().reset_index(name='count')\n",
    "\n",
    "grouped_data = grouped_data.sort_values(by=['purpose_confirm'])\n",
    "\n",
    "# Grouping the DataFrame by 'user_id'\n",
    "grouped_df = grouped_data.groupby('user_id')\n",
    "\n",
    "# Calculate the total count of trips for each user\n",
    "total_trips = grouped_df['count'].transform('sum')\n",
    "\n",
    "# Calculate the percentage of each purpose_confirm for each user\n",
    "grouped_data['percentage'] = (grouped_data['count'] / total_trips) * 100\n",
    "grouped_data.head(50)\n",
    "\n",
    "#grouped_data = grouped_data[grouped_data['purpose_confirm']=='work' | grouped_data['purpose_confirm']=='at_work' | grouped_data['purpose_confirm']=='pick_drop_person']\n",
    "grouped_data = grouped_data.query('purpose_confirm==\"work\" | purpose_confirm==\"school\" | purpose_confirm==\"at_work\" | purpose_confirm==\"pick_drop_person\" | purpose_confirm==\"home\"')\n",
    "\n",
    "# Plotting the box and whisker plot\n",
    "fig, ax = plt.subplots(figsize=(10,8))\n",
    "plot_title = '[Woman] Percentage of Purpose Choice for Each User'\n",
    "ylab = 'Percentage of trips'\n",
    "sns.boxplot(ax=ax, data=grouped_data, x='purpose_confirm', y='percentage', hue='purpose_confirm', showfliers=False).set(title=plot_title, xlabel='', ylabel=ylab)\n",
    "\n",
    "plt.subplots_adjust(bottom=0.25)\n",
    "plt.xticks(rotation=35, ha='right')\n",
    "plt.legend([])\n",
    "\n",
    "print(grouped_data['user_id'].nunique(), \"women\")"
   ]
  },
  {
   "cell_type": "code",
   "execution_count": 47,
   "id": "19378e7d",
   "metadata": {},
   "outputs": [
    {
     "name": "stdout",
     "output_type": "stream",
     "text": [
      "814 trips\n",
      "6 women\n"
     ]
    },
    {
     "data": {
      "image/png": "[encoded data removed]",
      "text/plain": [
       "<Figure size 1000x800 with 1 Axes>"
      ]
     },
     "metadata": {},
     "output_type": "display_data"
    }
   ],
   "source": [
    "women_full_data = full_data[full_data['What_is_your_gender'] == 'woman']\n",
    "\n",
    "print(women_full_data['mode_confirm'].dropna().size, \"trips\")\n",
    "# Grouping the data by user and purpose_confirm and calculating the count for each group\n",
    "grouped_data = women_full_data.groupby(['user_id', 'mode_confirm']).size().reset_index(name='count')\n",
    "\n",
    "grouped_data = grouped_data.sort_values(by=['mode_confirm'])\n",
    "\n",
    "# Grouping the DataFrame by 'user_id'\n",
    "grouped_df = grouped_data.groupby('user_id')\n",
    "\n",
    "# Calculate the total count of trips for each user\n",
    "total_trips = grouped_df['count'].transform('sum')\n",
    "\n",
    "# Calculate the percentage of each purpose_confirm for each user\n",
    "grouped_data['percentage'] = (grouped_data['count'] / total_trips) * 100\n",
    "grouped_data.head(50)\n",
    "\n",
    "#grouped_data = grouped_data[grouped_data['purpose_confirm']=='work' | grouped_data['purpose_confirm']=='at_work' | grouped_data['purpose_confirm']=='pick_drop_person']\n",
    "grouped_data = grouped_data.query('mode_confirm==\"motorcycle\" | mode_confirm==\"walk\" | mode_confirm==\"drove_alone\"')\n",
    "\n",
    "# Plotting the box and whisker plot\n",
    "fig, ax = plt.subplots(figsize=(10,8))\n",
    "plot_title = '[Woman] Percentage of Mode Choice for Each User'\n",
    "ylab = 'Percentage of trips'\n",
    "sns.boxplot(ax=ax, data=grouped_data, x='mode_confirm', y='percentage', hue='mode_confirm', showfliers=False).set(title=plot_title, xlabel='', ylabel=ylab)\n",
    "\n",
    "plt.subplots_adjust(bottom=0.25)\n",
    "plt.xticks(rotation=35, ha='right')\n",
    "plt.legend([])\n",
    "print(grouped_data['user_id'].nunique(), \"women\")"
   ]
  },
  {
   "cell_type": "code",
   "execution_count": null,
   "id": "5fe8d58c",
   "metadata": {
    "scrolled": true
   },
   "outputs": [],
   "source": [
    "# Filter the dataframe for gender \"woman\"\n",
    "woman_data = full_data[full_data['What_is_your_gender'] == 'woman']\n",
    "\n",
    "# Group the dataframe by \"purpose_confirm\" for \"woman\" and count the number of rows for each group\n",
    "purposes_woman_data = woman_data.groupby('purpose_confirm').size().reset_index(name='count')\n",
    "\n",
    "# Filter out slices with less than 0.5% of the total count\n",
    "purposes_woman_data = categorize_into_other(purposes_woman_data, 3)\n",
    "\n",
    "purposes_woman_data['purpose_confirm'] = purposes_woman_data['purpose_confirm'].replace({'work': 'Work'})\n",
    "purposes_woman_data['purpose_confirm'] = purposes_woman_data['purpose_confirm'].replace({'at_work': 'At Work'})\n",
    "purposes_woman_data['purpose_confirm'] = purposes_woman_data['purpose_confirm'].replace({'meal': 'Meal'})\n",
    "purposes_woman_data['purpose_confirm'] = purposes_woman_data['purpose_confirm'].replace({'pick_drop_person': 'Pick up/ Drop off Person'})\n",
    "purposes_woman_data['purpose_confirm'] = purposes_woman_data['purpose_confirm'].replace({'pick_drop_item': 'Pick up/ Drop off Item'})\n",
    "purposes_woman_data['purpose_confirm'] = purposes_woman_data['purpose_confirm'].replace({'school': 'School'})\n",
    "purposes_woman_data['purpose_confirm'] = purposes_woman_data['purpose_confirm'].replace({'home': 'Home'})\n",
    "purposes_woman_data['purpose_confirm'] = purposes_woman_data['purpose_confirm'].replace({'shopping': 'Shopping'})\n",
    "\n",
    "colors_woman = ['steelblue', 'coral', 'forestgreen', 'firebrick', 'darkgoldenrod', 'plum', 'magenta', 'yellow']\n",
    "\n",
    "\n",
    "# Create a pie chart for \"man\"\n",
    "plt.figure(figsize=(8, 8))  # Adjust the figure size as needed\n",
    "plt.pie(purposes_woman_data['count'], labels=purposes_woman_data['purpose_confirm'], autopct=lambda p: '{:.1f}%\\n({:.0f})'.format(p, p * sum(purposes_woman_data['count']) / 100), startangle=140, colors=colors_woman)\n",
    "plt.title('[Women] Distribution of Labeled Trip Purposes')\n",
    "plt.axis('equal')  # Equal aspect ratio ensures that pie is drawn as a circle\n",
    "plt.show()"
   ]
  },
  {
   "cell_type": "code",
   "execution_count": null,
   "id": "0527b596",
   "metadata": {
    "scrolled": true
   },
   "outputs": [],
   "source": [
    "# Group by user_id and count the number of trips\n",
    "user_labeling_rate = full_data.groupby('user_id').size()\n",
    "\n",
    "# Calculate the number of trips with non-null/empty mode_confirm for each user\n",
    "non_null_trips = full_data.dropna(subset=['mode_confirm']).groupby('user_id').size()\n",
    "\n",
    "# Calculate the percentage of trips with non-null/empty mode_confirm for each user\n",
    "percentage_non_null = (non_null_trips / user_labeling_rate * 100).fillna(0).round(1)\n",
    "\n",
    "# Create a new DataFrame with user_id as index and percentage of trips with non-null mode_confirm as a column\n",
    "table_data = pd.DataFrame({'Percentage of Labeled Trips': percentage_non_null})\n",
    "\n",
    "table_data['Gender'] = full_data.groupby('user_id')['What_is_your_gender'].first()\n",
    "\n",
    "# Rename user_ids to unique names\n",
    "user_id_map = {user_id: f'User {i+1}' for i, user_id in enumerate(table_data.index)}\n",
    "table_data.rename(index=user_id_map, inplace=True)\n",
    "\n",
    "# Calculate the average percentage of all non-null values\n",
    "average_percentage = np.mean(percentage_non_null)\n",
    "\n",
    "# Calculate average percentage for men and women separately\n",
    "average_percentage_men = table_data[table_data['Gender'] == 'man']['Percentage of Labeled Trips'].mean()\n",
    "average_percentage_women = table_data[table_data['Gender'] == 'woman']['Percentage of Labeled Trips'].mean()\n",
    "\n",
    "# Define color mapping for gender\n",
    "color_mapping = {'man': 'lightblue', 'woman': 'lightcoral'}\n",
    "\n",
    "# Create a list of background colors based on gender\n",
    "cell_colors = [[color_mapping.get(gender, 'white')] * len(table_data.columns) for gender in table_data['Gender']]\n",
    "\n",
    "# Plot the table with color-coded background\n",
    "plt.figure(figsize=(4, 6))\n",
    "plt.table(cellText=table_data.values,\n",
    "          cellColours=cell_colors,\n",
    "          colLabels=table_data.columns,\n",
    "          rowLabels=table_data.index,\n",
    "          loc='center')\n",
    "plt.axis('off')\n",
    "plt.title('Percentage of Labeled Trips by User')\n",
    "\n",
    "plt.text(0.5, -0.05, f'Average Labeling Percentage Overall: {average_percentage:.1f}%', ha='center', fontsize=10)\n",
    "plt.text(0.5, -0.1, f'Average Labeling Percentage for Men: {average_percentage_men:.1f}%', ha='center', fontsize=10)\n",
    "plt.text(0.5, -0.15, f'Average Labeling Percentage for Women: {average_percentage_women:.1f}%', ha='center', fontsize=10)\n",
    "\n",
    "plt.show()"
   ]
  },
  {
   "cell_type": "code",
   "execution_count": null,
   "id": "aa051c3b",
   "metadata": {},
   "outputs": [],
   "source": [
    "full_data['Date'] = full_data['data.start_fmt_time'].str[:10]\n",
    "\n",
    "# Group the data by date and count the number of total trips on each day\n",
    "total_trips_per_day = full_data.groupby('Date').size()\n",
    "\n",
    "# Filter out rows with null/empty mode_confirm values\n",
    "non_null_trips = full_data.dropna(subset=['mode_confirm'])\n",
    "\n",
    "# Group the non-null trips by date and count the number of trips on each day\n",
    "non_null_trips_per_day = non_null_trips.groupby('Date').size()\n",
    "\n",
    "# Plot the data\n",
    "plt.figure(figsize=(10, 6))\n",
    "total_trips_per_day.plot(kind='bar', color='lightgray', label='Total Trips')\n",
    "non_null_trips_per_day.plot(kind='bar', color='skyblue', label='Labeled Trips')\n",
    "plt.title('Number of Labeled and Total Trips by Day')\n",
    "plt.ylabel('Number of Trips')\n",
    "plt.legend()\n",
    "plt.xticks(rotation=80)\n",
    "plt.tight_layout()\n",
    "plt.show()"
   ]
  },
  {
   "cell_type": "code",
   "execution_count": null,
   "id": "0bab0d8c",
   "metadata": {},
   "outputs": [],
   "source": [
    "#format the age datapoints for the chart\n",
    "data = data.replace(['_16_years_old',\n",
    "              '16___20_years_old',\n",
    "              '21___25_years_old', \n",
    "              '26___30_years_old', \n",
    "              '31___35_years_old',\n",
    "              '36___40_years_old',\n",
    "              '41___45_years_old', \n",
    "              '56___60_years_old'], \n",
    "             ['<16',\n",
    "              '16-20',\n",
    "              '21-25',\n",
    "              '26-30',\n",
    "              '31-35',\n",
    "              '36-40',\n",
    "              '41-45',\n",
    "              '56-60'])"
   ]
  },
  {
   "cell_type": "code",
   "execution_count": null,
   "id": "f8aa34a6",
   "metadata": {},
   "outputs": [],
   "source": [
    "mode_confirm_counts = data['mode_confirm'].notnull().value_counts()\n",
    "\n",
    "user_ids_with_mode_confirm = data.loc[data['mode_confirm'].notnull(), 'user_id'].nunique()\n",
    "\n",
    "# Count the number of unique user_ids that did not have any rows where mode_confirm is not null\n",
    "user_ids_without_mode_confirm = data.loc[data['mode_confirm'].isnull(), 'user_id'].nunique()\n",
    "\n",
    "\n",
    "\n",
    "plot_data = pd.DataFrame({\n",
    "    'Null/Empty': [mode_confirm_counts[False]],\n",
    "    'Not Null': [mode_confirm_counts[True]]\n",
    "})\n",
    "\n",
    "groups = ['Total Trips']\n",
    "nulls = [mode_confirm_counts[False] + mode_confirm_counts[True]]\n",
    "notnulls = [mode_confirm_counts[True]]\n",
    "\n",
    "# Plotting\n",
    "fig, ax = plt.subplots(figsize=(4,6))\n",
    "ax.bar(groups, nulls, label = \"Unlabeled\")\n",
    "ax.bar(groups, notnulls, label = \"Labeled\")\n",
    "\n",
    "for bar in ax.patches:\n",
    "    ax.text(bar.get_x() + bar.get_width() / 2, bar.get_height() / 2 + bar.get_y(), f'{round(bar.get_height())} labeled trips' if round(bar.get_height()) < 5000 else f'{mode_confirm_counts[False]} unlabeled trips', ha = 'center', color = 'w', weight = 'bold', size = 10)\n",
    "\n",
    "\n",
    "ax.legend()\n",
    "ax.set_ylabel('Trips')\n",
    "    \n",
    "plt.figure(figsize=(5, 6))\n",
    "plot_data.plot(kind='bar', stacked=True, color=['blue', 'orange'])\n",
    "plt.title('Count of Rows with and without Mode Confirm')\n",
    "plt.xlabel('Mode Confirm')\n",
    "plt.ylabel('Count of Rows')\n",
    "plt.xticks([0], [''])  # Hide x-axis labels\n",
    "\n",
    "plt.legend(title='Mode Confirm', loc='upper right')\n",
    "plt.tight_layout()\n",
    "plt.show()\n"
   ]
  },
  {
   "cell_type": "code",
   "execution_count": null,
   "id": "98f96d35",
   "metadata": {},
   "outputs": [],
   "source": [
    "# Age, Income, Gender\n",
    "plot_data = data.copy()\n",
    "plot_data = plot_data.groupby(['user_id']).nth(0)[['How_old_are_you','What_is_your_gender']].dropna()\n",
    "plot_data = plot_data[plot_data['What_is_your_gender'].isin(['man','woman'])]\n",
    "plot_data = plot_data.groupby(['user_id'], as_index=False).nth(0)\n",
    "\n",
    "print(len(plot_data)) #22 participants\n",
    "\n",
    "#order the values\n",
    "plot_data['How_old_are_you'] = pd.Categorical(plot_data['How_old_are_you'], [ '<16',\n",
    "                                                                              '16-20',\n",
    "                                                                              '21-25',\n",
    "                                                                              '26-30',\n",
    "                                                                              '31-35',\n",
    "                                                                              '36-40',\n",
    "                                                                              '41-45',\n",
    "                                                                              '56-60'])"
   ]
  },
  {
   "cell_type": "code",
   "execution_count": null,
   "id": "a947fcdc",
   "metadata": {},
   "outputs": [],
   "source": [
    "plot_title='Participant Demographics'\n",
    "ylab='Count'\n",
    "file_name='CanBikeCO_report_demog'\n",
    "\n",
    "fig, axs = plt.subplots(2,2,figsize=(10,6))\n",
    "sns.histplot(data=plot_data, x='What_is_your_gender', ax=axs[0,0], color='purple', stat='probability').set(xlabel='Sex',ylabel='proportion')\n",
    "sns.histplot(data=plot_data, x='How_old_are_you', ax=axs[0,1], color='red', stat='probability').set(xlabel='Age',ylabel='proportion')\n",
    "plt.xticks(rotation=35, ha='right')\n",
    "plt.tight_layout()\n",
    "\n",
    "fig.savefig(file_name+\".png\", bbox_inches='tight')"
   ]
  },
  {
   "cell_type": "code",
   "execution_count": null,
   "id": "847b2639",
   "metadata": {},
   "outputs": [],
   "source": [
    "#gender - mode correlation\n",
    "mode_gender_data=data.copy()\n",
    "mode_gender_data = mode_gender_data[['What_is_your_gender', 'mode_confirm', 'data.distance']]\n",
    "mode_gender_data = mode_gender_data[mode_gender_data.mode_confirm.notna()]\n",
    "\n",
    "print(len(mode_gender_data))\n",
    "mode_gender_data['What_is_your_gender'] = mode_gender_data['What_is_your_gender'].astype('category')\n",
    "mode_gender_data['mode_confirm'] = mode_gender_data['mode_confirm'].astype('category')\n",
    "\n",
    "gender_man = mode_gender_data[mode_gender_data['What_is_your_gender'] == 'man']\n",
    "print(len(gender_man))\n",
    "gender_woman = mode_gender_data[mode_gender_data['What_is_your_gender'] == 'woman']\n",
    "print(len(gender_woman))\n",
    "\n",
    "t1 = gender_man.groupby(['mode_confirm'], as_index=False).count()[['mode_confirm','data.distance']]\n",
    "t1['proportion'] = t1['data.distance'] / np.sum(t1['data.distance'])\n",
    "t1['trip_type'] = 'Man'\n",
    "t1.columns = ['Mode','Count','Proportion','Gender']\n",
    "\n",
    "# processing long data\n",
    "t2 = gender_woman.groupby(['mode_confirm'], as_index=False).count()[['mode_confirm','data.distance']]\n",
    "t2['proportion'] = t2['data.distance'] / np.sum(t2['data.distance'])\n",
    "t2['trip_type'] = 'Woman'\n",
    "t2.columns = ['Mode','Count','Proportion','Gender']\n",
    "\n",
    "plot_data = pd.concat([t1, t2])\n",
    "plot_data = plot_data.reset_index()\n",
    "plot_data = plot_data.drop('index', axis='columns')\n",
    "\n",
    "plot_data"
   ]
  },
  {
   "cell_type": "code",
   "execution_count": null,
   "id": "5039fd0a",
   "metadata": {
    "scrolled": true
   },
   "outputs": [],
   "source": [
    "## code from minipilot vs full pilot regular / commute trip split -- has better labels!!\n",
    "\n",
    "width = 0.8\n",
    "fig, ax = plt.subplots(figsize=(10, 6))\n",
    "running_total = [0,0]\n",
    "fig_data = plot_data.copy()\n",
    "\n",
    "for mode in pd.unique(fig_data.Mode):\n",
    "    band_data = fig_data[fig_data['Mode']==mode]\n",
    "    \n",
    "    labels = band_data['Gender']\n",
    "    vals = band_data['Proportion']*100\n",
    "    bar_labels = band_data['Count']\n",
    "    \n",
    "    vals_str = [f'{y:.1f} %\\n({x:,})' if y>10 else '' for x, y in zip(bar_labels, vals)]\n",
    "    bar = ax.barh(labels, vals, width, left=running_total, label=mode)\n",
    "    ax.bar_label(bar, label_type='center', labels=vals_str, rotation=90, fontsize=18)\n",
    "    running_total[0] = running_total[0]+vals.iloc[0]\n",
    "    running_total[1] = running_total[1]+vals.iloc[1]\n",
    "\n",
    "ax.set_title('Mode Distribution', fontsize=25)\n",
    "ax.legend(bbox_to_anchor=(1,1), fancybox=True, shadow=True, fontsize=12)\n",
    "plt.subplots_adjust(bottom=0.20)\n",
    "fig.tight_layout()\n",
    "plt.show()"
   ]
  },
  {
   "cell_type": "code",
   "execution_count": null,
   "id": "fd126d43",
   "metadata": {},
   "outputs": [],
   "source": [
    "##vertical chart\n",
    "\n",
    "test_data = plot_data.drop('Count', axis='columns')\n",
    "data_man = test_data[test_data['Gender']=='Man']\n",
    "data_woman = test_data[test_data['Gender']=='Woman']\n",
    "\n",
    "data_man = data_man.drop('Gender', axis='columns')\n",
    "data_man.columns = ['Mode','Man']\n",
    "data_man = data_man.set_index('Mode')\n",
    "data_man = data_man.transpose()\n",
    "\n",
    "data_woman = data_woman.drop('Gender', axis='columns')\n",
    "data_woman.columns = ['Mode','Woman']\n",
    "data_woman = data_woman.set_index('Mode')\n",
    "data_woman = data_woman.transpose()\n",
    "\n",
    "test_data = pd.concat([data_man, data_woman])\n",
    "test_data = test_data.fillna(0)\n",
    "\n",
    "\n",
    "test_data\n",
    "\n",
    "ax = test_data.plot.bar(stacked=True, \n",
    "                        title=\"Mode Share by Gender\", \n",
    "                        ylabel=\"Proportion of Total Trip Count (%)\",\n",
    "                        xlabel = \"Participant Gender\",\n",
    "                        rot = 0)\n",
    "\n",
    "for c in ax.containers:\n",
    "    labels = [f'{round(v.get_height()*100)}%' if v.get_height() > .05 else ''for v in c]\n",
    "    ax.bar_label(c, labels=labels, label_type='center')\n",
    "\n",
    "ax.set_xticklabels(test_data.index, rotation=0, ha='center')\n",
    "ax.legend(bbox_to_anchor=(1,1), fancybox=True, shadow=True, fontsize=18)\n",
    "\n",
    "ax.set_xlabel(\"Participant Gender\", fontsize = 18)\n",
    "ax.set_ylabel(\"Proportion of Total Trip Count (%)\", fontsize = 18)\n",
    "ax.set_title(\"Mode Share by Gender\", fontsize = 22)\n",
    "\n",
    "plt.savefig(\"CanBikeCO_report_age_mode_share.jpeg\", bbox_inches='tight')\n",
    "\n",
    "\n",
    "##this would be better if we also had the counts!!!"
   ]
  },
  {
   "cell_type": "code",
   "execution_count": null,
   "id": "4f009062",
   "metadata": {},
   "outputs": [],
   "source": [
    "plot_data = data.copy()\n",
    "plot_data = plot_data[plot_data['data.distance']<20]\n",
    "\n",
    "plot_title = 'Mode Share by Trip Distance'\n",
    "ylab = 'Total Trips'\n",
    "file_name = \"CanBikeCO_report_mode_share_distance_short\"\n",
    "sns.histplot(plot_data, x=\"data.distance\", hue=\"mode_confirm\", element=\"poly\", multiple=\"stack\")"
   ]
  },
  {
   "cell_type": "code",
   "execution_count": null,
   "id": "2f1a0b78",
   "metadata": {},
   "outputs": [],
   "source": [
    "plot_data = data.copy()\n",
    "plot_data = plot_data[plot_data['data.distance']<6]\n",
    "\n",
    "plot_title = 'Mode Share by Trip Distance'\n",
    "ylab = 'Total Trips'\n",
    "file_name = \"CanBikeCO_report_mode_share_distance_short\"\n",
    "sns.histplot(plot_data, x=\"data.distance\", hue=\"mode_confirm\", element=\"poly\", multiple=\"stack\")"
   ]
  },
  {
   "cell_type": "code",
   "execution_count": null,
   "id": "113081fd",
   "metadata": {},
   "outputs": [],
   "source": [
    "## DISTANCE BY MODE -- WANT 1 for Man and 1 for Woman!\n",
    "\n",
    "# Distribution of distances by program\n",
    "plot_data = data.copy()\n",
    "\n",
    "#get rid of planes - outliers!\n",
    "plot_data = plot_data[plot_data['mode_confirm'] != 'air']\n",
    "plot_data = plot_data[plot_data['mode_confirm'] != 'taxi']\n",
    "plot_data = plot_data[plot_data['mode_confirm'] != 'auto_rickshaw']\n",
    "\n",
    "#get rid of entries where distance > 50\n",
    "plot_data = plot_data[plot_data['data.distance'] <= 50]\n"
   ]
  },
  {
   "cell_type": "code",
   "execution_count": null,
   "id": "ce6a1aa5",
   "metadata": {
    "scrolled": false
   },
   "outputs": [],
   "source": [
    "print(plot_data.columns)"
   ]
  },
  {
   "cell_type": "code",
   "execution_count": null,
   "id": "5095e618",
   "metadata": {},
   "outputs": [],
   "source": [
    "men_plot_data = plot_data.loc[plot_data['What_is_your_gender'] == 'man']\n",
    "\n",
    "if 'e_car_shared_ride' not in men_plot_data['mode_confirm']:\n",
    "    new_row = {'data.distance': 0, 'mode_confirm': 'e_car_shared_ride'}\n",
    "    # Append the new row to men_plot_data\n",
    "    men_plot_data = men_plot_data.append(new_row, ignore_index=True)\n",
    "if 'not_a_trip' not in men_plot_data['mode_confirm']:\n",
    "    new_row = {'data.distance': 0, 'mode_confirm': 'not_a_trip'}\n",
    "    # Append the new row to men_plot_data\n",
    "    men_plot_data = men_plot_data.append(new_row, ignore_index=True)\n",
    "    \n",
    "# Find counts of each unique value in the \"Mode_Confirm\" column\n",
    "mode_counts = men_plot_data['mode_confirm'].value_counts()\n",
    "\n",
    "# Filter DataFrame to keep only entries with mode_confirm values appearing >= 5 times\n",
    "# valid_modes = mode_counts[mode_counts >= 3].index\n",
    "# men_plot_data = men_plot_data[men_plot_data['mode_confirm'].isin(valid_modes)]\n",
    "\n",
    "\n",
    "men_plot_data['mode_confirm'] = men_plot_data['mode_confirm'].replace({'bike': 'Bicycle'})\n",
    "men_plot_data['mode_confirm'] = men_plot_data['mode_confirm'].replace({'drove_alone': 'Drove Alone'})\n",
    "men_plot_data['mode_confirm'] = men_plot_data['mode_confirm'].replace({'e-auto_rickshaw': 'E-Auto Rickshaw'})\n",
    "men_plot_data['mode_confirm'] = men_plot_data['mode_confirm'].replace({'e-bike': 'E-Bike'})\n",
    "men_plot_data['mode_confirm'] = men_plot_data['mode_confirm'].replace({'e_car_drove_alone': 'E-Car: Drove Alone'})\n",
    "men_plot_data['mode_confirm'] = men_plot_data['mode_confirm'].replace({'e_car_shared_ride': 'E-Car: Drove Together'})\n",
    "men_plot_data['mode_confirm'] = men_plot_data['mode_confirm'].replace({'motorcycle': 'Motorcycle'})\n",
    "men_plot_data['mode_confirm'] = men_plot_data['mode_confirm'].replace({'not_a_trip': 'Not A Trip'})\n",
    "men_plot_data['mode_confirm'] = men_plot_data['mode_confirm'].replace({'shared_ride': 'Drove Together'})\n",
    "men_plot_data['mode_confirm'] = men_plot_data['mode_confirm'].replace({'walk': 'Walk'})\n",
    "\n",
    "men_plot_data = men_plot_data.sort_values(by='mode_confirm')\n",
    "\n",
    "# Assuming your dataframe is named df\n",
    "# Group by \"mode_confirm\" and calculate the sum of \"data.distance\" for each group\n",
    "men_grouped_data = men_plot_data.groupby('mode_confirm')['data.distance'].sum()\n",
    "\n",
    "# Convert the grouped data into a dataframe for plotting\n",
    "men_plot_data = pd.DataFrame(men_grouped_data).reset_index()\n",
    "\n",
    "# Create a bar plot\n",
    "plt.figure(figsize=(10, 8))  # Adjust the figure size as needed\n",
    "plt.bar(men_plot_data['mode_confirm'], men_plot_data['data.distance'])\n",
    "\n",
    "# Set the labels and title\n",
    "plt.xlabel('Mode of Transportation')\n",
    "plt.ylabel('Total Distance')\n",
    "plt.title('[Men] Distribution of Total Distances by Mode')\n",
    "\n",
    "# Rotate x-axis labels for better readability (optional)\n",
    "plt.xticks(rotation=45, ha='right')\n",
    "\n",
    "# Show the plot\n",
    "plt.ylim(0, 2050)\n",
    "plt.tight_layout()  # Adjust layout to prevent clipping of labels\n",
    "plt.show()"
   ]
  },
  {
   "cell_type": "code",
   "execution_count": null,
   "id": "87888557",
   "metadata": {},
   "outputs": [],
   "source": [
    "plot_title = '[Men] Distribution of Distances by Mode'\n",
    "ylab = 'Distance (miles)'\n",
    "\n",
    "fig, ax = plt.subplots(figsize=(10,8))\n",
    "sns.boxplot(ax=ax, data=men_plot_data, x='mode_confirm', y='data.distance', hue='mode_confirm', showfliers=False).set(title=plot_title, xlabel='', ylabel=ylab)\n",
    "plt.subplots_adjust(bottom=0.25)\n",
    "plt.xticks(rotation=35, ha='right')\n",
    "plt.legend([])\n",
    "\n",
    "ax.set_ylim(top=35)"
   ]
  },
  {
   "cell_type": "code",
   "execution_count": null,
   "id": "2d2ed308",
   "metadata": {},
   "outputs": [],
   "source": [
    "women_plot_data = plot_data.loc[plot_data['What_is_your_gender'] == 'woman']\n",
    "\n",
    "\n",
    "if 'e-auto_rickshaw' not in women_plot_data['mode_confirm']:\n",
    "    new_row = {'data.distance': 0, 'mode_confirm': 'e-auto_rickshaw'}\n",
    "    # Append the new row to women_plot_data\n",
    "    women_plot_data = women_plot_data.append(new_row, ignore_index=True)\n",
    "\n",
    "\n",
    "# Find counts of each unique value in the \"Mode_Confirm\" column\n",
    "mode_counts = women_plot_data['mode_confirm'].value_counts()\n",
    "\n",
    "# Filter DataFrame to keep only entries with mode_confirm values appearing >= 5 times\n",
    "# valid_modes = mode_counts[mode_counts >= 3].index\n",
    "# women_plot_data = women_plot_data[women_plot_data['mode_confirm'].isin(valid_modes)]\n",
    "\n",
    "\n",
    "\n",
    "women_plot_data['mode_confirm'] = women_plot_data['mode_confirm'].replace({'bike': 'Bicycle'})\n",
    "women_plot_data['mode_confirm'] = women_plot_data['mode_confirm'].replace({'drove_alone': 'Drove Alone'})\n",
    "women_plot_data['mode_confirm'] = women_plot_data['mode_confirm'].replace({'e-auto_rickshaw': 'E-Auto Rickshaw'})\n",
    "women_plot_data['mode_confirm'] = women_plot_data['mode_confirm'].replace({'e-bike': 'E-Bike'})\n",
    "women_plot_data['mode_confirm'] = women_plot_data['mode_confirm'].replace({'e_car_drove_alone': 'E-Car: Drove Alone'})\n",
    "women_plot_data['mode_confirm'] = women_plot_data['mode_confirm'].replace({'e_car_shared_ride': 'E-Car: Drove Together'})\n",
    "women_plot_data['mode_confirm'] = women_plot_data['mode_confirm'].replace({'motorcycle': 'Motorcycle'})\n",
    "women_plot_data['mode_confirm'] = women_plot_data['mode_confirm'].replace({'not_a_trip': 'Not A Trip'})\n",
    "women_plot_data['mode_confirm'] = women_plot_data['mode_confirm'].replace({'shared_ride': 'Drove Together'})\n",
    "women_plot_data['mode_confirm'] = women_plot_data['mode_confirm'].replace({'walk': 'Walk'})\n",
    "\n",
    "women_plot_data = women_plot_data.sort_values(by='mode_confirm')\n",
    "\n",
    "# Assuming your dataframe is named df\n",
    "# Group by \"mode_confirm\" and calculate the sum of \"data.distance\" for each group\n",
    "women_grouped_data = women_plot_data.groupby('mode_confirm')['data.distance'].sum()\n",
    "\n",
    "# Convert the grouped data into a dataframe for plotting\n",
    "women_plot_data = pd.DataFrame(women_grouped_data).reset_index()\n",
    "\n",
    "# Create a bar plot\n",
    "plt.figure(figsize=(10, 8))  # Adjust the figure size as needed\n",
    "plt.bar(women_plot_data['mode_confirm'], women_plot_data['data.distance'])\n",
    "\n",
    "# Set the labels and title\n",
    "plt.xlabel('Mode of Transportation')\n",
    "plt.ylabel('Total Distance')\n",
    "plt.title('[Women] Distribution of Distances by Mode')\n",
    "\n",
    "# Rotate x-axis labels for better readability (optional)\n",
    "plt.xticks(rotation=45, ha='right')\n",
    "\n",
    "# Show the plot\n",
    "plt.ylim(0, 2050)\n",
    "plt.tight_layout()  # Adjust layout to prevent clipping of labels\n",
    "plt.show()"
   ]
  },
  {
   "cell_type": "code",
   "execution_count": null,
   "id": "081d22a1",
   "metadata": {},
   "outputs": [],
   "source": [
    "plot_title = 'Distribution of Distances by Mode'\n",
    "ylab = 'Distance (miles)'\n",
    "\n",
    "fig, ax = plt.subplots(figsize=(10,8))\n",
    "sns.boxplot(ax=ax, data=plot_data, x='mode_confirm', y='data.distance', hue='mode_confirm', showfliers=False).set(title=plot_title, xlabel='', ylabel=ylab)\n",
    "plt.subplots_adjust(bottom=0.25)\n",
    "plt.xticks(rotation=35, ha='right')\n",
    "plt.legend([])"
   ]
  },
  {
   "cell_type": "code",
   "execution_count": null,
   "id": "795f4d02",
   "metadata": {},
   "outputs": [],
   "source": []
  },
  {
   "cell_type": "code",
   "execution_count": null,
   "id": "3caae4a9",
   "metadata": {},
   "outputs": [],
   "source": []
  }
 ],
 "metadata": {
  "kernelspec": {
   "display_name": "Python 3 (ipykernel)",
   "language": "python",
   "name": "python3"
  },
  "language_info": {
   "codemirror_mode": {
    "name": "ipython",
    "version": 3
   },
   "file_extension": ".py",
   "mimetype": "text/x-python",
   "name": "python",
   "nbconvert_exporter": "python",
   "pygments_lexer": "ipython3",
   "version": "3.9.18"
  }
 },
 "nbformat": 4,
 "nbformat_minor": 5
}
